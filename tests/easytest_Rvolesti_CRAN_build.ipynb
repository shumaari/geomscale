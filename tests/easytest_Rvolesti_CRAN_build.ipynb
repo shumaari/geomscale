{
  "cells": [
    {
      "cell_type": "code",
      "execution_count": 1,
      "metadata": {
        "colab": {
          "base_uri": "https://localhost:8080/"
        },
        "id": "PTPnFDX6QX3h",
        "outputId": "dd5147f9-e475-4b23-f4e7-ea4d116cc2da"
      },
      "outputs": [
        {
          "output_type": "stream",
          "name": "stderr",
          "text": [
            "Installing packages into ‘/usr/local/lib/R/site-library’\n",
            "(as ‘lib’ is unspecified)\n",
            "\n",
            "also installing the dependencies ‘tinytest’, ‘inline’, ‘rbenchmark’, ‘pkgKitten’, ‘microbenchmark’\n",
            "\n",
            "\n"
          ]
        }
      ],
      "source": [
        "# installing dependencies for volesti package, Rcpp, RcppEigen, BH, lpSolveAPI, with their own dependencies\n",
        "install.packages(c(\"Rcpp\", \"RcppEigen\", \"BH\", \"lpSolveAPI\"), dependencies = TRUE)\n"
      ]
    },
    {
      "cell_type": "code",
      "execution_count": 3,
      "metadata": {
        "id": "ZzVDH1QPReHV",
        "colab": {
          "base_uri": "https://localhost:8080/"
        },
        "outputId": "f80af70c-1bae-4a83-aad0-07dd41406535"
      },
      "outputs": [
        {
          "output_type": "stream",
          "name": "stderr",
          "text": [
            "Installing package into ‘/usr/local/lib/R/site-library’\n",
            "(as ‘lib’ is unspecified)\n",
            "\n"
          ]
        }
      ],
      "source": [
        "# installing devtools package to build volesti package from source, with its own dependencies\n",
        "install.packages(\"devtools\", dependencies = TRUE)\n"
      ]
    },
    {
      "cell_type": "code",
      "execution_count": 5,
      "metadata": {
        "colab": {
          "base_uri": "https://localhost:8080/",
          "height": 34
        },
        "id": "iY5UqfntVlM_",
        "outputId": "d0d0f9a4-e228-41ec-9632-97d8f1ff5bdd"
      },
      "outputs": [
        {
          "output_type": "display_data",
          "data": {
            "text/html": [
              "'/content'"
            ],
            "text/markdown": "'/content'",
            "text/latex": "'/content'",
            "text/plain": [
              "[1] \"/content\""
            ]
          },
          "metadata": {}
        }
      ],
      "source": [
        "getwd()\n",
        "\n",
        "# downloading source files for CRAN version of volesti package from github\n",
        "download.file(url = \"https://github.com/GeomScale/Rvolesti/archive/refs/heads/main.zip\", destfile = \"Rvolesti.zip\")\n",
        "unzip(\"Rvolesti.zip\")\n"
      ]
    },
    {
      "cell_type": "code",
      "source": [
        "setwd(\"/content/Rvolesti-main\")\n",
        "# updating the Rcpp layer from C++ to R\n",
        "Rcpp::compileAttributes()"
      ],
      "metadata": {
        "id": "EabIejUA2cuO"
      },
      "execution_count": 9,
      "outputs": []
    },
    {
      "cell_type": "code",
      "source": [
        "# building volesti package from source\n",
        "library(devtools)\n",
        "devtools::build()"
      ],
      "metadata": {
        "colab": {
          "base_uri": "https://localhost:8080/",
          "height": 229
        },
        "id": "J_627pCRwShG",
        "outputId": "450b868d-a43c-474f-c58f-055fe11f54fc"
      },
      "execution_count": 10,
      "outputs": [
        {
          "output_type": "stream",
          "name": "stderr",
          "text": [
            "Loading required package: usethis\n",
            "\n"
          ]
        },
        {
          "output_type": "stream",
          "name": "stdout",
          "text": [
            "\u001b[36m──\u001b[39m \u001b[36mR CMD build\u001b[39m \u001b[36m─────────────────────────────────────────────────────────────────\u001b[39m\n",
            "* checking for file ‘/content/Rvolesti-main/DESCRIPTION’ ... OK\n",
            "* preparing ‘volesti’:\n",
            "* checking DESCRIPTION meta-information ... OK\n",
            "* cleaning src\n",
            "* checking for LF line-endings in source and make files and shell scripts\n",
            "* checking for empty or unneeded directories\n",
            "* building ‘volesti_1.2.0.tar.gz’\n",
            "\n"
          ]
        },
        {
          "output_type": "display_data",
          "data": {
            "text/html": [
              "'/content/volesti_1.2.0.tar.gz'"
            ],
            "text/markdown": "'/content/volesti_1.2.0.tar.gz'",
            "text/latex": "'/content/volesti\\_1.2.0.tar.gz'",
            "text/plain": [
              "[1] \"/content/volesti_1.2.0.tar.gz\""
            ]
          },
          "metadata": {}
        }
      ]
    },
    {
      "cell_type": "code",
      "source": [
        "# installing volesti package\n",
        "devtools::install()\n"
      ],
      "metadata": {
        "colab": {
          "base_uri": "https://localhost:8080/"
        },
        "id": "OhT4IyPswdnD",
        "outputId": "0eea9139-dd4e-4c28-c934-bb81731e249c"
      },
      "execution_count": 11,
      "outputs": [
        {
          "output_type": "stream",
          "name": "stderr",
          "text": [
            "IOPub data rate exceeded.\n",
            "The notebook server will temporarily stop sending output\n",
            "to the client in order to avoid crashing it.\n",
            "To change this limit, set the config variable\n",
            "`--NotebookApp.iopub_data_rate_limit`.\n",
            "\n",
            "Current values:\n",
            "NotebookApp.iopub_data_rate_limit=1000000.0 (bytes/sec)\n",
            "NotebookApp.rate_limit_window=3.0 (secs)\n",
            "\n"
          ]
        }
      ]
    },
    {
      "cell_type": "code",
      "source": [
        "# testing the installed volesti package\n",
        "devtools::test()"
      ],
      "metadata": {
        "colab": {
          "base_uri": "https://localhost:8080/"
        },
        "id": "hT4f3FyFmJBd",
        "outputId": "3cffaf08-bb9f-42cf-ad05-94f2a7ce2af8"
      },
      "execution_count": 12,
      "outputs": [
        {
          "output_type": "stream",
          "name": "stderr",
          "text": [
            "\u001b[1m\u001b[22m\u001b[36mℹ\u001b[39m Testing \u001b[34mvolesti\u001b[39m\n",
            "\n",
            "Attaching package: ‘testthat’\n",
            "\n",
            "\n",
            "The following object is masked from ‘package:devtools’:\n",
            "\n",
            "    test_file\n",
            "\n",
            "\n"
          ]
        },
        {
          "output_type": "stream",
          "name": "stdout",
          "text": [
            "\u001b[32m✔\u001b[39m | \u001b[33mF\u001b[39m \u001b[35mW\u001b[39m \u001b[34m S\u001b[39m \u001b[32m OK\u001b[39m | Context\n",
            "\n",
            "⠏ |          0 | copulas                                                        \n",
            "⠏ |          0 | Copulas' test                                                  \n",
            "⠋ |          1 | Copulas' test                                                  \n",
            "⠙ |          2 | Copulas' test                                                  \n",
            "\u001b[32m✔\u001b[39m |          2 | Copulas' test\u001b[90m [3.4s]\u001b[39m\n",
            "\n",
            "⠏ |          0 | Hvol                                                           \n",
            "⠏ |          0 | H-polytopes' volume test                                       \n",
            "⠋ |          1 | H-polytopes' volume test                                       \n",
            "⠙ |          2 | H-polytopes' volume test                                       \n",
            "⠹ |          3 | H-polytopes' volume test                                       \n",
            "⠸ |          4 | H-polytopes' volume test                                       \n",
            "⠼ |          5 | H-polytopes' volume test                                       \n",
            "⠴ |          6 | H-polytopes' volume test                                       \n",
            "⠦ |          7 | H-polytopes' volume test                                       \n",
            "⠧ |          8 | H-polytopes' volume test                                       \n",
            "\u001b[32m✔\u001b[39m |          8 | H-polytopes' volume test\u001b[90m [43.4s]\u001b[39m\n",
            "\n",
            "⠏ |          0 | InnerBall                                                      \n",
            "⠏ |          0 | Chebychev ball test                                            \n",
            "⠸ |         14 | Chebychev ball test                                            \n",
            "\u001b[32m✔\u001b[39m |         19 | Chebychev ball test\n",
            "\n",
            "⠏ |          0 | rounding                                                       \n",
            "⠏ |          0 | Rounding test                                                  \n",
            "⠋ |          1 | Rounding test                                                  \n",
            "⠙ |          2 | Rounding test                                                  \n",
            "\u001b[32m✔\u001b[39m |          2 | Rounding test\u001b[90m [4.3s]\u001b[39m\n",
            "\n",
            "⠏ |          0 | sampling                                                       \n",
            "⠏ |          0 | Sampling test                                                  \n",
            "⠧ |          8 | Sampling test                                                  \n",
            "⠏ |         10 | Sampling test                                                  \n",
            "⠴ |         16 | Sampling test                                                  \n",
            "\u001b[32m✔\u001b[39m |         16 | Sampling test\n",
            "\n",
            "⠏ |          0 | Vvol                                                           \n",
            "⠏ |          0 | V-polytopes' volume test                                       \n",
            "⠋ |          1 | V-polytopes' volume test                                       \n",
            "⠙ |          2 | V-polytopes' volume test                                       \n",
            "\u001b[32m✔\u001b[39m |          2 | V-polytopes' volume test\u001b[90m [10.3s]\u001b[39m\n",
            "\n",
            "⠏ |          0 | Zvol                                                           \n",
            "⠏ |          0 | Zonotopes' volume test                                         \n",
            "⠋ |          1 | Zonotopes' volume test                                         \n",
            "⠙ |          2 | Zonotopes' volume test                                         \n",
            "\u001b[32m✔\u001b[39m |          2 | Zonotopes' volume test\u001b[90m [13.7s]\u001b[39m\n",
            "\n",
            "══ \u001b[1mResults\u001b[22m ═════════════════════════════════════════════════════════════════════\n",
            "\u001b[36mDuration: 76.0 s\u001b[39m\n",
            "\n",
            "[ FAIL 0 | WARN 0 | SKIP 0 | \u001b[32mPASS\u001b[39m 51 ]\n"
          ]
        }
      ]
    },
    {
      "cell_type": "code",
      "source": [
        "# running examples from volesti package\n",
        "devtools::run_examples()\n"
      ],
      "metadata": {
        "colab": {
          "base_uri": "https://localhost:8080/"
        },
        "id": "JOK_DphftW3C",
        "outputId": "648b52eb-db21-4d06-8d59-2bbb7d5c8726"
      },
      "execution_count": 13,
      "outputs": [
        {
          "output_type": "stream",
          "name": "stderr",
          "text": [
            "\u001b[1m\u001b[22m\u001b[36mℹ\u001b[39m Updating \u001b[34mvolesti\u001b[39m documentation\n",
            "\u001b[1m\u001b[22m\u001b[36mℹ\u001b[39m Loading \u001b[34mvolesti\u001b[39m\n"
          ]
        },
        {
          "output_type": "stream",
          "name": "stdout",
          "text": [
            "── Running 43 example files ───────────────────────────────────────── volesti ──\n"
          ]
        },
        {
          "output_type": "stream",
          "name": "stderr",
          "text": [
            "\u001b[1m\u001b[22m\u001b[36mℹ\u001b[39m Loading \u001b[34mvolesti\u001b[39m\n"
          ]
        },
        {
          "output_type": "stream",
          "name": "stdout",
          "text": [
            "\n",
            "> asset_returns = replicate(10, rnorm(14))\n",
            "\n",
            "> market_states_and_indicators = compute_indicators(asset_returns, \n",
            "+     parameters = list(win_length = 10, m = 10, n = 10000, nwarning = 2, \n",
            "+         ncrisis = 3))\n",
            "\n",
            "> h1 = runif(n = 10, min = 1, max = 1000)\n",
            "\n",
            "> h1 = h1/1000\n",
            "\n",
            "> h2 = runif(n = 10, min = 1, max = 1000)\n",
            "\n",
            "> h2 = h2/1000\n",
            "\n",
            "> cop = copula(r1 = h1, r2 = h2, m = 10, n = 1e+05)\n",
            "\n",
            "> h = runif(n = 10, min = 1, max = 1000)\n",
            "\n",
            "> h = h/1000\n",
            "\n",
            "> E = replicate(10, rnorm(20))\n",
            "\n",
            "> E = cov(E)\n",
            "\n",
            "> cop = copula(r1 = h, sigma = E, m = 10, n = 1e+05)\n",
            "\n",
            "> points = direct_sampling(n = 100, body = list(type = \"ball\", \n",
            "+     dimension = 2))\n",
            "\n",
            "> Z = gen_rand_zonotope(2, 5)\n",
            "\n",
            "> vol = exact_vol(Z)\n",
            "\n",
            "> P = gen_cross(10, \"V\")\n",
            "\n",
            "> vol = exact_vol(P)\n",
            "\n",
            "> a = c(-1, 1)\n",
            "\n",
            "> z0 = 0\n",
            "\n",
            "> frustum = frustum_of_simplex(a, z0)\n",
            "\n",
            "> P = gen_birkhoff(5)\n",
            "\n",
            "> P = gen_cross(5, \"H\")\n",
            "\n",
            "> P = gen_cross(15, \"V\")\n",
            "\n",
            "> P = gen_cube(10, \"H\")\n",
            "\n",
            "> P = gen_cube(5, \"V\")\n",
            "\n",
            "> P = gen_prod_simplex(5)\n",
            "\n",
            "> P = gen_rand_hpoly(10, 50)\n",
            "\n",
            "> P = gen_rand_vpoly(10, 25)\n",
            "\n",
            "> P = gen_rand_zonotope(10, 20)\n",
            "\n",
            "> PolyList = gen_simplex(10, \"H\")\n",
            "\n",
            "> P = gen_simplex(20, \"V\")\n",
            "\n",
            "> P = gen_skinny_cube(10)\n",
            "\n",
            "> A = matrix(c(-1, 0, 0, -1, 1, 1), ncol = 2, nrow = 3, \n",
            "+     byrow = TRUE)\n",
            "\n",
            "> b = c(0, 0, 1)\n",
            "\n",
            "> P = Hpolytope(A = A, b = b)\n",
            "\n",
            "> P = gen_cube(10, \"H\")\n",
            "\n",
            "> ball_vec = inner_ball(P)\n",
            "\n",
            "> P = gen_cube(3, \"V\")\n",
            "\n",
            "> ball_vec = inner_ball(P, lpsolve = TRUE)\n",
            "\n",
            "> path = system.file(\"extdata\", package = \"volesti\")\n",
            "\n",
            "> l = loadSdpaFormatFile(paste0(path, \"/sdpa_n2m3.txt\"))\n",
            "\n",
            "> F <- function(x) (-x)\n",
            "\n",
            "> initial_conditions <- list(x_1 = c(0), x_2 = c(1))\n",
            "\n",
            "> states <- ode_solve(dimension = 1, n = 1000, F = F, \n",
            "+     initial_time = 0, step_size = 0.01, order = 2, method = \"leapfrog\", \n",
            "+     initial_conditions = initial_conditions, domains = list())\n",
            "\n",
            "> path = system.file(\"extdata\", package = \"volesti\")\n",
            "\n",
            "> l = read_sdpa_format_file(paste0(path, \"/sdpa_n2m3.txt\"))\n",
            "\n",
            "> Spectrahedron = l$spectrahedron\n",
            "\n",
            "> objFunction = l$objFunction\n",
            "\n",
            "> P = gen_simplex(2, \"H\")\n",
            "\n",
            "> poly_matrix_list = rotate_polytope(P)\n",
            "\n",
            "> P = gen_cube(3, \"V\")\n",
            "\n",
            "> poly_matrix_list = rotate_polytope(P)\n",
            "\n",
            "> Z = gen_rand_zonotope(3, 6)\n",
            "\n",
            "> poly_matrix_list = rotate_polytope(Z)\n",
            "\n",
            "> P = gen_skinny_cube(5)\n",
            "\n",
            "> listHpoly = round_polytope(P)\n",
            "\n",
            "> P = gen_cube(3, \"V\")\n",
            "\n",
            "> ListVpoly = round_polytope(P)\n",
            "\n",
            "> Z = gen_rand_zonotope(2, 6)\n",
            "\n",
            "> ListZono = round_polytope(Z)\n",
            "\n",
            "> P = gen_cube(3, \"H\")\n",
            "\n",
            "> points = sample_points(P, n = 100, random_walk = list(walk = \"BaW\", \n",
            "+     walk_length = 5))\n",
            "\n",
            "> A = matrix(c(-1, 0, 0, -1, 1, 1), ncol = 2, nrow = 3, \n",
            "+     byrow = TRUE)\n",
            "\n",
            "> b = c(0, 0, 1)\n",
            "\n",
            "> P = Hpolytope(A = A, b = b)\n",
            "\n",
            "> points = sample_points(P, n = 100, distribution = list(density = \"gaussian\", \n",
            "+     variance = 2))\n",
            "\n",
            "> P = gen_rand_hpoly(2, 20)\n",
            "\n",
            "> points = sample_points(P, n = 100, random_walk = list(walk = \"BRDHR\"))\n",
            "\n",
            "> A0 = matrix(c(-1, 0, 0, 0, -2, 1, 0, 1, -2), nrow = 3, \n",
            "+     ncol = 3, byrow = TRUE)\n",
            "\n",
            "> A1 = matrix(c(-1, 0, 0, 0, 0, 1, 0, 1, 0), nrow = 3, \n",
            "+     ncol = 3, byrow = TRUE)\n",
            "\n",
            "> A2 = matrix(c(0, 0, -1, 0, 0, 0, -1, 0, 0), nrow = 3, \n",
            "+     ncol = 3, byrow = TRUE)\n",
            "\n",
            "> lmi = list(A0, A1, A2)\n",
            "\n",
            "> S = Spectrahedron(matrices = lmi)\n",
            "\n",
            "> HP = gen_cube(5, \"H\")\n",
            "\n",
            "> pair_vol = volume(HP)\n",
            "\n",
            "> VP = gen_simplex(3, \"V\")\n",
            "\n",
            "> pair_vol = volume(VP, settings = list(algorithm = \"CG\"))\n",
            "\n",
            "> Z = gen_rand_zonotope(2, 4)\n",
            "\n",
            "> pair_vol = volume(Z, settings = list(random_walk = \"RDHR\", \n",
            "+     walk_length = 2))\n",
            "\n",
            "> V = matrix(c(2, 3, -1, 7, 0, 0), ncol = 2, nrow = 3, \n",
            "+     byrow = TRUE)\n",
            "\n",
            "> P = Vpolytope(V = V)\n",
            "\n",
            "> P1 = gen_simplex(2, \"V\")\n",
            "\n",
            "> P2 = gen_cross(2, \"V\")\n",
            "\n",
            "> P = VpolytopeIntersection(V1 = P1@V, V2 = P2@V)\n",
            "\n",
            "> G = matrix(c(2, 3, -1, 7, 0, 0), ncol = 2, nrow = 3, \n",
            "+     byrow = TRUE)\n",
            "\n",
            "> P = Zonotope(G = G)\n",
            "\n",
            "> Z = gen_rand_zonotope(2, 10)\n",
            "\n",
            "> retList = zonotope_approximation(Z = Z)\n"
          ]
        },
        {
          "output_type": "stream",
          "name": "stderr",
          "text": [
            "\u001b[1m\u001b[22m\u001b[36mℹ\u001b[39m Loading \u001b[34mvolesti\u001b[39m\n"
          ]
        }
      ]
    },
    {
      "cell_type": "code",
      "source": [
        "# zipping current folder and downloading, to preserve colab sessions\n",
        "setwd(\"/content/\")\n",
        "library(zip)\n",
        "zip(\n",
        "  \"/content/Rvolestizip.zip\",\n",
        "  \"/content/Rvolesti-main\",\n",
        "  recurse = TRUE,\n",
        "  compression_level = 9,\n",
        "  include_directories = TRUE,\n",
        "  root = \".\",\n",
        "  mode = \"mirror\"\n",
        ")\n"
      ],
      "metadata": {
        "colab": {
          "base_uri": "https://localhost:8080/"
        },
        "id": "90vFma1O71wg",
        "outputId": "edb45edb-113d-4d88-daff-a98865526d5a"
      },
      "execution_count": 15,
      "outputs": [
        {
          "output_type": "stream",
          "name": "stderr",
          "text": [
            "Warning message in fix_absolute_paths(data$key):\n",
            "“Dropping leading `/` from paths, all paths in a zip file must be relative paths.”\n"
          ]
        }
      ]
    }
  ],
  "metadata": {
    "colab": {
      "provenance": []
    },
    "kernelspec": {
      "display_name": "R",
      "name": "ir"
    },
    "language_info": {
      "name": "R"
    }
  },
  "nbformat": 4,
  "nbformat_minor": 0
}